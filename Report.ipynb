{
 "cells": [
  {
   "cell_type": "markdown",
   "id": "bf2f5495-be51-4853-be70-55c767c80279",
   "metadata": {},
   "source": [
    "![ alt text for screen readers](./images/ladakh.png \"Text to show on mouseover\")"
   ]
  },
  {
   "cell_type": "markdown",
   "id": "a14ce16e-34c4-4d56-8964-5ca80c0a6f09",
   "metadata": {
    "tags": []
   },
   "source": [
    "Land surface temperature (LST) is one of the important geophysical parameters in monitoring\n",
    "climate change, soil moisture, land use dynamics, natural resource management, etc. Land\n",
    "cover and land use changes mainly influence the variations in earth’s surface temperature.\n",
    "Several studies have depicted that the Himalayan region is warming faster than the global\n",
    "average over the last century. ‘The Himalaya,’ which describes India’s north extent, is the largest source of snow and ice cover outside the polar regions in the world. Snow cover controls the global and regional climate and releases fresh water in the hydrological cycle. Snow exhibits a strong negative correlation with atmospheric temperature. Changes in snow covered areas (SCA) alter the land-surface heating and the overlying atmosphere. Therefore, trends in LST and SCA can be a crucial indicator of how the area is being affected."
   ]
  },
  {
   "cell_type": "markdown",
   "id": "480e688c-5b5a-4076-943a-f7a4c09a6789",
   "metadata": {},
   "source": [
    "The objective of this project is to investigate the long-term trends in LST and SCA over a period\n",
    "of 12 years from 2011 to 2022. Ladakh, a high-altitude desert region in the Northern India is an\n",
    "ideal location for this study. The study area can be divided into distinct elevation zones to\n",
    "capture microclimatic variations. "
   ]
  },
  {
   "cell_type": "code",
   "execution_count": null,
   "id": "28f6b3f7-5de4-4861-b225-507cf1c99d8a",
   "metadata": {},
   "outputs": [],
   "source": []
  }
 ],
 "metadata": {
  "kernelspec": {
   "display_name": "Python 3 (ipykernel)",
   "language": "python",
   "name": "python3"
  },
  "language_info": {
   "codemirror_mode": {
    "name": "ipython",
    "version": 3
   },
   "file_extension": ".py",
   "mimetype": "text/x-python",
   "name": "python",
   "nbconvert_exporter": "python",
   "pygments_lexer": "ipython3",
   "version": "3.11.4"
  }
 },
 "nbformat": 4,
 "nbformat_minor": 5
}
