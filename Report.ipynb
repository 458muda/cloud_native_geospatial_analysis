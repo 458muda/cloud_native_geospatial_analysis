{
 "cells": [
  {
   "cell_type": "markdown",
   "id": "9e99fe70-438c-4e78-b66e-fa372af34a96",
   "metadata": {
    "tags": []
   },
   "source": [
    "## Long-term trends in Snow Cover in Ladakh, India"
   ]
  },
  {
   "cell_type": "markdown",
   "id": "4f9fc7bb-3965-4436-858d-58567d82c50b",
   "metadata": {
    "tags": []
   },
   "source": [
    "Snow cover controls the global and regional climate and releases fresh water in the hydrological cycle. Snow exhibits a strong negative correlation with atmospheric temperature. Changes in snow covered areas (SCA) alter the land-surface heating and the overlying atmosphere. Therefore, trends in SCA can be a crucial indicator of how the area is being changed.\n",
    "\n",
    "‘The Himalaya,’ which describes India’s north extent, is the largest source of snow and ice cover outside the polar regions in the world. Several studies have indicated that the Himalayan region is warming faster than the global average over the last century. Other studies suggest that continuous increase in annual LST trends would contribute to accelerated retreating of glaciers and cause heatwave and drought conditions in lower elevations. "
   ]
  },
  {
   "cell_type": "markdown",
   "id": "fee3be89-c967-40aa-b8d0-d339309e2dd4",
   "metadata": {},
   "source": [
    "## Study Area"
   ]
  },
  {
   "cell_type": "markdown",
   "id": "03ff5335-1fab-4d50-a302-769befc81f9d",
   "metadata": {},
   "source": [
    "Ladakh is a region administered by India as a union territory. It extends from the Siachen Glacier in the Karakoram range to the north to the main Great Himalayas to the south. It is the highest plateau in India with most of it being over 3,000 m. Ladakh is a high-altitude desert as the Himalayas create a rain shadow, generally denying entry to monsoon clouds. The main source of water is the winter snowfall on the mountains. "
   ]
  },
  {
   "cell_type": "markdown",
   "id": "bf2f5495-be51-4853-be70-55c767c80279",
   "metadata": {},
   "source": [
    "<img src=\"./images/ladakh.png\" alt=\"Study Area, Ladakh\" style=\"width: 600px; height:450px\"/>\n"
   ]
  },
  {
   "cell_type": "markdown",
   "id": "117993d4-5850-4a9f-8140-bbeecc3544a7",
   "metadata": {
    "tags": []
   },
   "source": [
    "## Objectives"
   ]
  },
  {
   "cell_type": "markdown",
   "id": "c0035eae-f75f-481a-b902-65acb4233d81",
   "metadata": {},
   "source": [
    "1. Assess snow covered area (SCA) trends in the region of Ladakh between 2010 and 2022 for a period of 13 years. \n",
    "2. Classify the study area into different elevation classes to differentiate the impact of elevation on trends in SCA. \n"
   ]
  },
  {
   "cell_type": "markdown",
   "id": "a14ce16e-34c4-4d56-8964-5ca80c0a6f09",
   "metadata": {
    "tags": []
   },
   "source": [
    "## Methodology"
   ]
  },
  {
   "cell_type": "markdown",
   "id": "480e688c-5b5a-4076-943a-f7a4c09a6789",
   "metadata": {},
   "source": [
    "The data needed for this analysis is obtained from the Planetary Computer Data Catalog. MODIS  Snow Cover Daily dataset is used to calculate SCA and NASADEM dataset is used for elevation.\n",
    "From SC data, \"NDSI_Snow_Cover\" band is obtained which represents SC in percentage (0-100). From DEM data, \"elevation\" band is obtained and resampled to a resolution of 500 metres to match with MODIS data.\n",
    "\n",
    "Snow cover data is obtained as an Xarray dataset using \"odc.stac.load\" method for the summer months (May, June, July, and August). The data is then grouped together monthly by calculation the mean snow cover percentage along the time dimension. It is then converted into binary SC with a threshold of 50%.\n",
    "\n",
    "Elevation data is is obtained as an Xarray dataset using \"stackstac.stac\" method. Since there are multiple tiles, \"stackstac.mosaic\" method is used to mosaic the dataset. The data is then classified into 5 classes for elevation ranges 0-3000m (1), 3000-4000m (2), 4000-5000m (3), 5000m-6000m (4), 6000-9000m (5) respectively. To do this, \"xarray.apply_ufunc\" methods is used."
   ]
  },
  {
   "cell_type": "markdown",
   "id": "12bd5e1f-6fd5-4b6f-811f-7f99fc5bc7da",
   "metadata": {},
   "source": [
    "<img src=\"./images/ladakh_dem_classified.png\" alt=\"Classified based on elevation, Ladakh\" style=\"width: 700px; height:500px\"/>\n"
   ]
  },
  {
   "cell_type": "markdown",
   "id": "d33558c7-ad27-41ad-b701-b3371f6c223e",
   "metadata": {},
   "source": [
    "Only zones 2, 3 and 4 were used to compute zonal statistics as zones 1 and 5 constitute less than 15% of the study area. The method \"xrspatial.zonal_stats\" method is used to compute the number of SCA pixels in elevation zones which returns the statistics as a pandas dataframe. The results for each year are combined together and presented as a bar plot to visualize the trends."
   ]
  },
  {
   "cell_type": "markdown",
   "id": "4a6300e3-7b19-4c01-a297-2166ffee6dea",
   "metadata": {
    "tags": []
   },
   "source": [
    "## Results"
   ]
  },
  {
   "cell_type": "markdown",
   "id": "10f3965a-7aab-47f8-893c-2bc9cccbb7c7",
   "metadata": {},
   "source": [
    "### Zone 2 3000-4000m"
   ]
  },
  {
   "cell_type": "markdown",
   "id": "60e27eea-609e-4fb2-a9d5-34a36d0e4345",
   "metadata": {},
   "source": [
    "![Snow cover trends in Zone 2](./images/class2_trend.png \"Snow cover trends in Zone 2\")"
   ]
  },
  {
   "cell_type": "markdown",
   "id": "abb36238-e7ab-4f33-ad62-dbbbad356fc6",
   "metadata": {
    "tags": []
   },
   "source": [
    "### Zone 3 4000m-5000m"
   ]
  },
  {
   "cell_type": "markdown",
   "id": "a1ab16ca-8978-4851-876e-f8b2ff5d014f",
   "metadata": {},
   "source": [
    "![Snow cover trends in Zone 3](./images/class3_trend.png \"Snow cover trends in Zone 3\")"
   ]
  },
  {
   "cell_type": "markdown",
   "id": "d580af85-f0b4-428c-9eb5-5463472c8c89",
   "metadata": {
    "tags": []
   },
   "source": [
    "### Zone 4 5000m-6000m"
   ]
  },
  {
   "cell_type": "markdown",
   "id": "a26d1f58-a019-4e8a-8d72-4e6099e14075",
   "metadata": {},
   "source": [
    "![Snow cover trends in Zone 4](./images/class4_trend.png \"Snow cover trends in Zone 4\")"
   ]
  },
  {
   "cell_type": "markdown",
   "id": "3c9d3da2-9587-4f69-b1f3-6fb1b8f3a159",
   "metadata": {},
   "source": [
    "## Discussion"
   ]
  },
  {
   "cell_type": "markdown",
   "id": "40d26a89-1b62-434f-8b82-2d06af919577",
   "metadata": {},
   "source": [
    "Zonal statistics confirm that the Himalayan region is experiencing glacial retreat, particularly at lower elevations, due to global warming. This trend is evident in zone 2, where a significant decreasing trend in snow cover is noted during June and July. Additionally, zone 3 show decreasing trend in July and August. While zone 4 maintains consistent snow cover through May, June, and July, but also reveals a decline in August. These patterns are consistent with rising temperatures in the region, especially during the months of July and August, as reported in scientific literature."
   ]
  },
  {
   "cell_type": "markdown",
   "id": "ee2a8053-356e-4258-aaaf-a8b3b881d7ba",
   "metadata": {
    "tags": []
   },
   "source": [
    "### Challenges Encountered"
   ]
  },
  {
   "cell_type": "markdown",
   "id": "8a4eb4d1-7028-4d55-b033-6fdd8f41139a",
   "metadata": {},
   "source": [
    "While performing zonal statistics, there were several challenges, primarily due to errors arising from data set comparisons. The process requires that both the zones raster and the values raster not only share the same projection and spatial bounds but also the data type. In my case, zones raster, which was a result of \"xarray.apply_ufunc\" method was not dask-based and had data type as \"int64\". In practice, these rasters are both of type \"xarray.DataArray\", yet the data within differs—one being a NumPy n-dimensional array, and the other a Dask array. To resolve this, it was necessary to convert the zones raster into a Dask array format, change the data type to \"float64\" and align spatially using \"reproject_match\" and then run \"xrspatial.zonal_stats\". \n",
    "\n",
    "The initial plan was to employ Landsat data collection for analysis, but the complexity of managing numerous images from various Landsat satellites, such as 8, 9, and 7, for the same area, led to an overwhelming search inventory. This complexity made computations, particularly calculating the mean over time dimension, prohibitively time-consuming and costly, despite employing distributed computing with lazy evaluation. Consequently, there's a compromise between the high resolution of images and the size of the study area. In this case with large study region, using Landsat data proved impractical. Thus, researchers must choose between high-resolution data for small areas, ensuring precision, or broader analyses with lower-resolution data that offer a more general overview.\n"
   ]
  },
  {
   "cell_type": "markdown",
   "id": "b56420ce-b502-4361-8e33-1b3cbbecca6a",
   "metadata": {
    "tags": []
   },
   "source": [
    "### Suggested Improvements"
   ]
  },
  {
   "cell_type": "markdown",
   "id": "42a62126-fc1b-4360-ac7a-18be4ed9f3cf",
   "metadata": {},
   "source": [
    "The analysis, conducted over 13 years, could yield more pronounced trends if extended over a longer timeframe. Integrating additional datasets, such as land surface temperature and precipitation, would enhance our understanding of the relationships between these variables and their collective impact. Furthermore, utilizing higher resolution data could refine the analysis, though it may increase computational demands."
   ]
  }
 ],
 "metadata": {
  "kernelspec": {
   "display_name": "Python 3 (ipykernel)",
   "language": "python",
   "name": "python3"
  },
  "language_info": {
   "codemirror_mode": {
    "name": "ipython",
    "version": 3
   },
   "file_extension": ".py",
   "mimetype": "text/x-python",
   "name": "python",
   "nbconvert_exporter": "python",
   "pygments_lexer": "ipython3",
   "version": "3.11.4"
  }
 },
 "nbformat": 4,
 "nbformat_minor": 5
}
